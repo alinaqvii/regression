{
 "cells": [
  {
   "cell_type": "markdown",
   "metadata": {},
   "source": [
    "# TRAIN TEST SPLIT"
   ]
  },
  {
   "cell_type": "code",
   "execution_count": 3,
   "metadata": {},
   "outputs": [
    {
     "name": "stderr",
     "output_type": "stream",
     "text": [
      "Using TensorFlow backend.\n"
     ]
    }
   ],
   "source": [
    "from keras.models import Sequential\n",
    "from keras.layers import Dense \n",
    "from keras.optimizers import Adam, SGD\n",
    "\n",
    "%matplotlib inline\n",
    "import matplotlib.pyplot as plt\n",
    "import numpy as np\n",
    "import pandas as pd"
   ]
  },
  {
   "cell_type": "code",
   "execution_count": 8,
   "metadata": {
    "collapsed": true
   },
   "outputs": [],
   "source": [
    "from sklearn.model_selection import train_test_split"
   ]
  },
  {
   "cell_type": "code",
   "execution_count": 9,
   "metadata": {
    "collapsed": true
   },
   "outputs": [],
   "source": [
    "df=pd.read_csv('../data/weight-height.csv')"
   ]
  },
  {
   "cell_type": "code",
   "execution_count": 11,
   "metadata": {
    "collapsed": true
   },
   "outputs": [],
   "source": [
    "X=df[['Height']].values\n",
    "y_true=df[['Weight']].values"
   ]
  },
  {
   "cell_type": "code",
   "execution_count": 12,
   "metadata": {},
   "outputs": [],
   "source": [
    "X_train, X_test, y_train, y_test = train_test_split(X,y_true, test_size=0.3)"
   ]
  },
  {
   "cell_type": "code",
   "execution_count": 13,
   "metadata": {},
   "outputs": [
    {
     "data": {
      "text/plain": [
       "7000"
      ]
     },
     "execution_count": 13,
     "metadata": {},
     "output_type": "execute_result"
    }
   ],
   "source": [
    "len(X_train)"
   ]
  },
  {
   "cell_type": "code",
   "execution_count": 14,
   "metadata": {},
   "outputs": [
    {
     "data": {
      "text/plain": [
       "3000"
      ]
     },
     "execution_count": 14,
     "metadata": {},
     "output_type": "execute_result"
    }
   ],
   "source": [
    "len(X_test)"
   ]
  },
  {
   "cell_type": "code",
   "execution_count": 16,
   "metadata": {
    "collapsed": true
   },
   "outputs": [],
   "source": [
    "model = Sequential()\n",
    "model.add(Dense(1, input_shape=(1,)))"
   ]
  },
  {
   "cell_type": "code",
   "execution_count": 17,
   "metadata": {
    "collapsed": true
   },
   "outputs": [],
   "source": [
    "model.compile(Adam(lr=0.8), 'mean_squared_error')"
   ]
  },
  {
   "cell_type": "code",
   "execution_count": 18,
   "metadata": {},
   "outputs": [
    {
     "name": "stdout",
     "output_type": "stream",
     "text": [
      "Epoch 1/50\n",
      "7000/7000 [==============================] - 2s 252us/step - loss: 894.0380\n",
      "Epoch 2/50\n",
      "7000/7000 [==============================] - 1s 187us/step - loss: 578.1149\n",
      "Epoch 3/50\n",
      "7000/7000 [==============================] - ETA: 0s - loss: 529.204 - 1s 194us/step - loss: 530.8958\n",
      "Epoch 4/50\n",
      "7000/7000 [==============================] - 1s 186us/step - loss: 511.3387\n",
      "Epoch 5/50\n",
      "7000/7000 [==============================] - 1s 118us/step - loss: 496.8173\n",
      "Epoch 6/50\n",
      "7000/7000 [==============================] - 1s 130us/step - loss: 439.8245\n",
      "Epoch 7/50\n",
      "7000/7000 [==============================] - 1s 111us/step - loss: 412.1468\n",
      "Epoch 8/50\n",
      "7000/7000 [==============================] - 1s 106us/step - loss: 388.0067\n",
      "Epoch 9/50\n",
      "7000/7000 [==============================] - 1s 116us/step - loss: 359.8848\n",
      "Epoch 10/50\n",
      "7000/7000 [==============================] - 1s 130us/step - loss: 353.3140\n",
      "Epoch 11/50\n",
      "7000/7000 [==============================] - 1s 86us/step - loss: 316.6254\n",
      "Epoch 12/50\n",
      "7000/7000 [==============================] - 1s 86us/step - loss: 295.4329\n",
      "Epoch 13/50\n",
      "7000/7000 [==============================] - 1s 84us/step - loss: 273.7540\n",
      "Epoch 14/50\n",
      "7000/7000 [==============================] - 1s 124us/step - loss: 261.4301\n",
      "Epoch 15/50\n",
      "7000/7000 [==============================] - 1s 79us/step - loss: 239.1955\n",
      "Epoch 16/50\n",
      "7000/7000 [==============================] - 1s 88us/step - loss: 229.8850\n",
      "Epoch 17/50\n",
      "7000/7000 [==============================] - 1s 80us/step - loss: 221.3963\n",
      "Epoch 18/50\n",
      "7000/7000 [==============================] - 1s 107us/step - loss: 215.1232\n",
      "Epoch 19/50\n",
      "7000/7000 [==============================] - 0s 66us/step - loss: 207.0354\n",
      "Epoch 20/50\n",
      "7000/7000 [==============================] - 1s 80us/step - loss: 230.5989\n",
      "Epoch 21/50\n",
      "7000/7000 [==============================] - 0s 65us/step - loss: 204.6495\n",
      "Epoch 22/50\n",
      "7000/7000 [==============================] - 0s 66us/step - loss: 183.0948\n",
      "Epoch 23/50\n",
      "7000/7000 [==============================] - 0s 69us/step - loss: 190.9702\n",
      "Epoch 24/50\n",
      "7000/7000 [==============================] - 1s 75us/step - loss: 198.6296\n",
      "Epoch 25/50\n",
      "7000/7000 [==============================] - 1s 87us/step - loss: 182.5202\n",
      "Epoch 26/50\n",
      "7000/7000 [==============================] - 1s 75us/step - loss: 189.4822\n",
      "Epoch 27/50\n",
      "7000/7000 [==============================] - 1s 95us/step - loss: 194.9427\n",
      "Epoch 28/50\n",
      "7000/7000 [==============================] - 0s 71us/step - loss: 180.8829\n",
      "Epoch 29/50\n",
      "7000/7000 [==============================] - 0s 69us/step - loss: 181.7068\n",
      "Epoch 30/50\n",
      "7000/7000 [==============================] - 1s 98us/step - loss: 185.9843: 1s - l\n",
      "Epoch 31/50\n",
      "7000/7000 [==============================] - 1s 87us/step - loss: 180.3927\n",
      "Epoch 32/50\n",
      "7000/7000 [==============================] - 0s 60us/step - loss: 186.4922\n",
      "Epoch 33/50\n",
      "7000/7000 [==============================] - 0s 57us/step - loss: 186.9519\n",
      "Epoch 34/50\n",
      "7000/7000 [==============================] - 0s 58us/step - loss: 170.5900\n",
      "Epoch 35/50\n",
      "7000/7000 [==============================] - 0s 59us/step - loss: 173.5471\n",
      "Epoch 36/50\n",
      "7000/7000 [==============================] - 1s 86us/step - loss: 176.6255\n",
      "Epoch 37/50\n",
      "7000/7000 [==============================] - 0s 58us/step - loss: 177.7298\n",
      "Epoch 38/50\n",
      "7000/7000 [==============================] - 1s 81us/step - loss: 186.4007\n",
      "Epoch 39/50\n",
      "7000/7000 [==============================] - 1s 73us/step - loss: 176.1544\n",
      "Epoch 40/50\n",
      "7000/7000 [==============================] - 0s 62us/step - loss: 179.9947\n",
      "Epoch 41/50\n",
      "7000/7000 [==============================] - 1s 83us/step - loss: 182.0629\n",
      "Epoch 42/50\n",
      "7000/7000 [==============================] - 0s 58us/step - loss: 167.1985\n",
      "Epoch 43/50\n",
      "7000/7000 [==============================] - 1s 73us/step - loss: 165.7979\n",
      "Epoch 44/50\n",
      "7000/7000 [==============================] - 1s 73us/step - loss: 173.2726\n",
      "Epoch 45/50\n",
      "7000/7000 [==============================] - 0s 64us/step - loss: 173.8255\n",
      "Epoch 46/50\n",
      "7000/7000 [==============================] - 0s 57us/step - loss: 191.5240\n",
      "Epoch 47/50\n",
      "7000/7000 [==============================] - 0s 61us/step - loss: 195.8406\n",
      "Epoch 48/50\n",
      "7000/7000 [==============================] - 0s 68us/step - loss: 181.8337\n",
      "Epoch 49/50\n",
      "7000/7000 [==============================] - 0s 61us/step - loss: 188.1543\n",
      "Epoch 50/50\n",
      "7000/7000 [==============================] - 1s 77us/step - loss: 178.6241\n"
     ]
    },
    {
     "data": {
      "text/plain": [
       "<keras.callbacks.History at 0x2f386315b00>"
      ]
     },
     "execution_count": 18,
     "metadata": {},
     "output_type": "execute_result"
    }
   ],
   "source": [
    "model.fit(X_train, y_train, epochs=50)"
   ]
  },
  {
   "cell_type": "code",
   "execution_count": 19,
   "metadata": {
    "collapsed": true
   },
   "outputs": [],
   "source": [
    "y_train_pred= model.predict(X_train).ravel()\n",
    "y_test_pred=model.predict(X_test).ravel()"
   ]
  },
  {
   "cell_type": "code",
   "execution_count": 20,
   "metadata": {},
   "outputs": [
    {
     "data": {
      "text/plain": [
       "[<matplotlib.lines.Line2D at 0x2f38c6e5518>]"
      ]
     },
     "execution_count": 20,
     "metadata": {},
     "output_type": "execute_result"
    },
    {
     "data": {
      "image/png": "[encoded data removed]",
      "text/plain": [
       "<matplotlib.figure.Figure at 0x2f38c6e5898>"
      ]
     },
     "metadata": {},
     "output_type": "display_data"
    }
   ],
   "source": [
    "df.plot(kind='scatter',\n",
    "       x='Height',\n",
    "       y='Weight', title='Weight and Height in adults')\n",
    "plt.plot(X_train, y_train_pred, color='red', linewidth=6)\n",
    "plt.plot(X_test, y_test_pred, color='yellow', linewidth=2)"
   ]
  },
  {
   "cell_type": "code",
   "execution_count": 21,
   "metadata": {
    "collapsed": true
   },
   "outputs": [],
   "source": [
    "from sklearn.metrics import mean_squared_error as mse\n",
    "from sklearn.metrics import r2_score"
   ]
  },
  {
   "cell_type": "code",
   "execution_count": 22,
   "metadata": {},
   "outputs": [
    {
     "name": "stdout",
     "output_type": "stream",
     "text": [
      "152.835226764\n",
      "150.409463627\n"
     ]
    }
   ],
   "source": [
    "print(mse(y_train, y_train_pred))\n",
    "print(mse(y_test, y_test_pred))"
   ]
  },
  {
   "cell_type": "code",
   "execution_count": 23,
   "metadata": {},
   "outputs": [
    {
     "name": "stdout",
     "output_type": "stream",
     "text": [
      "0.853071932208\n",
      "0.850822564606\n"
     ]
    }
   ],
   "source": [
    "print(r2_score(y_train, y_train_pred))\n",
    "print(r2_score(y_test, y_test_pred))"
   ]
  },
  {
   "cell_type": "code",
   "execution_count": null,
   "metadata": {
    "collapsed": true
   },
   "outputs": [],
   "source": [
    "'''to reset the model \n",
    "'''\n",
    "w[0,0]=0.0\n",
    "B[0]=0.0\n",
    "model.set_weights((W,B))"
   ]
  },
  {
   "cell_type": "code",
   "execution_count": null,
   "metadata": {
    "collapsed": true
   },
   "outputs": [],
   "source": []
  }
 ],
 "metadata": {
  "kernelspec": {
   "display_name": "Python 3",
   "language": "python",
   "name": "python3"
  },
  "language_info": {
   "codemirror_mode": {
    "name": "ipython",
    "version": 3
   },
   "file_extension": ".py",
   "mimetype": "text/x-python",
   "name": "python",
   "nbconvert_exporter": "python",
   "pygments_lexer": "ipython3",
   "version": "3.6.3"
  }
 },
 "nbformat": 4,
 "nbformat_minor": 2
}
