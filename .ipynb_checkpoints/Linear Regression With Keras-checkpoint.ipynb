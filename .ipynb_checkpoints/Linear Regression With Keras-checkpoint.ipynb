{
 "cells": [
  {
   "cell_type": "code",
   "execution_count": 1,
   "metadata": {},
   "outputs": [
    {
     "name": "stderr",
     "output_type": "stream",
     "text": [
      "Using TensorFlow backend.\n"
     ]
    }
   ],
   "source": [
    "from keras.models import Sequential\n",
    "from keras.layers import Dense \n",
    "from keras.optimizers import Adam, SGD\n",
    "\n",
    "%matplotlib inline\n",
    "import matplotlib.pyplot as plt\n",
    "import numpy as np\n",
    "import pandas as pd"
   ]
  },
  {
   "cell_type": "code",
   "execution_count": 6,
   "metadata": {},
   "outputs": [],
   "source": [
    "df=pd.read_csv('weight-height.csv')"
   ]
  },
  {
   "cell_type": "code",
   "execution_count": 7,
   "metadata": {},
   "outputs": [],
   "source": [
    "X=df[['Height']].values\n",
    "y_true=df[['Weight']].values"
   ]
  },
  {
   "cell_type": "code",
   "execution_count": 8,
   "metadata": {},
   "outputs": [
    {
     "data": {
      "text/plain": [
       "array([[73.84701702],\n",
       "       [68.78190405],\n",
       "       [74.11010539],\n",
       "       ...,\n",
       "       [63.86799221],\n",
       "       [69.03424313],\n",
       "       [61.94424588]])"
      ]
     },
     "execution_count": 8,
     "metadata": {},
     "output_type": "execute_result"
    }
   ],
   "source": [
    "X"
   ]
  },
  {
   "cell_type": "code",
   "execution_count": 9,
   "metadata": {},
   "outputs": [],
   "source": [
    "model = Sequential()\n",
    "model.add(Dense(1, input_shape=(1,)))"
   ]
  },
  {
   "cell_type": "code",
   "execution_count": 10,
   "metadata": {},
   "outputs": [
    {
     "name": "stdout",
     "output_type": "stream",
     "text": [
      "Model: \"sequential_2\"\n",
      "_________________________________________________________________\n",
      "Layer (type)                 Output Shape              Param #   \n",
      "=================================================================\n",
      "dense_2 (Dense)              (None, 1)                 2         \n",
      "=================================================================\n",
      "Total params: 2\n",
      "Trainable params: 2\n",
      "Non-trainable params: 0\n",
      "_________________________________________________________________\n"
     ]
    }
   ],
   "source": [
    "model.summary()"
   ]
  },
  {
   "cell_type": "code",
   "execution_count": 11,
   "metadata": {},
   "outputs": [],
   "source": [
    "model.compile(Adam(lr=0.8), 'mean_squared_error')"
   ]
  },
  {
   "cell_type": "code",
   "execution_count": 18,
   "metadata": {},
   "outputs": [
    {
     "name": "stdout",
     "output_type": "stream",
     "text": [
      "Epoch 1/23\n",
      "10000/10000 [==============================] - 0s 40us/step - loss: 174.5355\n",
      "Epoch 2/23\n",
      "10000/10000 [==============================] - 0s 33us/step - loss: 168.6352\n",
      "Epoch 3/23\n",
      "10000/10000 [==============================] - 0s 35us/step - loss: 189.4634\n",
      "Epoch 4/23\n",
      "10000/10000 [==============================] - 0s 41us/step - loss: 176.7514\n",
      "Epoch 5/23\n",
      "10000/10000 [==============================] - 0s 39us/step - loss: 177.3591\n",
      "Epoch 6/23\n",
      "10000/10000 [==============================] - 0s 40us/step - loss: 178.1498\n",
      "Epoch 7/23\n",
      "10000/10000 [==============================] - 0s 37us/step - loss: 170.9874\n",
      "Epoch 8/23\n",
      "10000/10000 [==============================] - 0s 36us/step - loss: 174.1273\n",
      "Epoch 9/23\n",
      "10000/10000 [==============================] - 0s 42us/step - loss: 174.5495\n",
      "Epoch 10/23\n",
      "10000/10000 [==============================] - 0s 41us/step - loss: 179.5327\n",
      "Epoch 11/23\n",
      "10000/10000 [==============================] - 0s 41us/step - loss: 175.6190\n",
      "Epoch 12/23\n",
      "10000/10000 [==============================] - 1s 50us/step - loss: 173.5954\n",
      "Epoch 13/23\n",
      "10000/10000 [==============================] - 0s 44us/step - loss: 174.7344\n",
      "Epoch 14/23\n",
      "10000/10000 [==============================] - 0s 42us/step - loss: 176.0476\n",
      "Epoch 15/23\n",
      "10000/10000 [==============================] - 0s 41us/step - loss: 171.8731\n",
      "Epoch 16/23\n",
      "10000/10000 [==============================] - 0s 44us/step - loss: 177.1874\n",
      "Epoch 17/23\n",
      "10000/10000 [==============================] - 0s 42us/step - loss: 179.0575\n",
      "Epoch 18/23\n",
      "10000/10000 [==============================] - 0s 44us/step - loss: 179.6323\n",
      "Epoch 19/23\n",
      "10000/10000 [==============================] - 0s 46us/step - loss: 173.1394\n",
      "Epoch 20/23\n",
      "10000/10000 [==============================] - 0s 39us/step - loss: 178.7527\n",
      "Epoch 21/23\n",
      "10000/10000 [==============================] - 1s 50us/step - loss: 178.8994\n",
      "Epoch 22/23\n",
      "10000/10000 [==============================] - 0s 40us/step - loss: 177.5673\n",
      "Epoch 23/23\n",
      "10000/10000 [==============================] - 0s 40us/step - loss: 176.3854\n"
     ]
    },
    {
     "data": {
      "text/plain": [
       "<keras.callbacks.callbacks.History at 0x7f88fc127750>"
      ]
     },
     "execution_count": 18,
     "metadata": {},
     "output_type": "execute_result"
    }
   ],
   "source": [
    "model.fit(X,y_true, epochs=23)"
   ]
  },
  {
   "cell_type": "code",
   "execution_count": 13,
   "metadata": {},
   "outputs": [],
   "source": [
    "y_pred=model.predict(X)"
   ]
  },
  {
   "cell_type": "code",
   "execution_count": 14,
   "metadata": {},
   "outputs": [
    {
     "data": {
      "text/plain": [
       "[<matplotlib.lines.Line2D at 0x7f88fc272410>]"
      ]
     },
     "execution_count": 14,
     "metadata": {},
     "output_type": "execute_result"
    },
    {
     "data": {
      "image/png": "[encoded data removed]",
      "text/plain": [
       "<Figure size 432x288 with 1 Axes>"
      ]
     },
     "metadata": {
      "needs_background": "light"
     },
     "output_type": "display_data"
    }
   ],
   "source": [
    "df.plot(kind='scatter',\n",
    "       x='Height',\n",
    "       y='Weight', title='Weight and Height in adults')\n",
    "plt.plot(X, y_pred, color='red', linewidth=3)"
   ]
  },
  {
   "cell_type": "code",
   "execution_count": 15,
   "metadata": {},
   "outputs": [],
   "source": [
    "w,b=model.get_weights()"
   ]
  },
  {
   "cell_type": "code",
   "execution_count": 16,
   "metadata": {},
   "outputs": [
    {
     "data": {
      "text/plain": [
       "array([[7.7876096]], dtype=float32)"
      ]
     },
     "execution_count": 16,
     "metadata": {},
     "output_type": "execute_result"
    }
   ],
   "source": [
    "w"
   ]
  },
  {
   "cell_type": "code",
   "execution_count": 17,
   "metadata": {},
   "outputs": [
    {
     "data": {
      "text/plain": [
       "array([-349.3606], dtype=float32)"
      ]
     },
     "execution_count": 17,
     "metadata": {},
     "output_type": "execute_result"
    }
   ],
   "source": [
    "b"
   ]
  },
  {
   "cell_type": "code",
   "execution_count": null,
   "metadata": {
    "collapsed": true
   },
   "outputs": [],
   "source": []
  }
 ],
 "metadata": {
  "kernelspec": {
   "display_name": "Python 3",
   "language": "python",
   "name": "python3"
  },
  "language_info": {
   "codemirror_mode": {
    "name": "ipython",
    "version": 3
   },
   "file_extension": ".py",
   "mimetype": "text/x-python",
   "name": "python",
   "nbconvert_exporter": "python",
   "pygments_lexer": "ipython3",
   "version": "3.7.5"
  }
 },
 "nbformat": 4,
 "nbformat_minor": 2
}
