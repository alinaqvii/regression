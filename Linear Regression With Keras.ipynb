{
 "cells": [
  {
   "cell_type": "code",
   "execution_count": 1,
   "metadata": {},
   "outputs": [
    {
     "name": "stderr",
     "output_type": "stream",
     "text": [
      "Using TensorFlow backend.\n"
     ]
    }
   ],
   "source": [
    "from keras.models import Sequential\n",
    "from keras.layers import Dense \n",
    "from keras.optimizers import Adam, SGD\n",
    "\n",
    "%matplotlib inline\n",
    "import matplotlib.pyplot as plt\n",
    "import numpy as np\n",
    "import pandas as pd"
   ]
  },
  {
   "cell_type": "code",
   "execution_count": 6,
   "metadata": {},
   "outputs": [],
   "source": [
    "df=pd.read_csv('weight-height.csv')"
   ]
  },
  {
   "cell_type": "code",
   "execution_count": 7,
   "metadata": {},
   "outputs": [],
   "source": [
    "X=df[['Height']].values\n",
    "y_true=df[['Weight']].values"
   ]
  },
  {
   "cell_type": "code",
   "execution_count": 8,
   "metadata": {},
   "outputs": [
    {
     "data": {
      "text/plain": [
       "array([[73.84701702],\n",
       "       [68.78190405],\n",
       "       [74.11010539],\n",
       "       ...,\n",
       "       [63.86799221],\n",
       "       [69.03424313],\n",
       "       [61.94424588]])"
      ]
     },
     "execution_count": 8,
     "metadata": {},
     "output_type": "execute_result"
    }
   ],
   "source": [
    "X"
   ]
  },
  {
   "cell_type": "code",
   "execution_count": 19,
   "metadata": {},
   "outputs": [],
   "source": [
    "model = Sequential()\n",
    "model.add(Dense(1, input_shape=(1,)))"
   ]
  },
  {
   "cell_type": "code",
   "execution_count": 20,
   "metadata": {},
   "outputs": [
    {
     "name": "stdout",
     "output_type": "stream",
     "text": [
      "Model: \"sequential_3\"\n",
      "_________________________________________________________________\n",
      "Layer (type)                 Output Shape              Param #   \n",
      "=================================================================\n",
      "dense_3 (Dense)              (None, 1)                 2         \n",
      "=================================================================\n",
      "Total params: 2\n",
      "Trainable params: 2\n",
      "Non-trainable params: 0\n",
      "_________________________________________________________________\n"
     ]
    }
   ],
   "source": [
    "model.summary()"
   ]
  },
  {
   "cell_type": "code",
   "execution_count": 21,
   "metadata": {},
   "outputs": [],
   "source": [
    "model.compile(Adam(lr=0.8), 'mean_squared_error')"
   ]
  },
  {
   "cell_type": "code",
   "execution_count": 22,
   "metadata": {},
   "outputs": [
    {
     "name": "stdout",
     "output_type": "stream",
     "text": [
      "Epoch 1/23\n",
      "10000/10000 [==============================] - 0s 36us/step - loss: 767.5954\n",
      "Epoch 2/23\n",
      "10000/10000 [==============================] - 0s 35us/step - loss: 545.0006\n",
      "Epoch 3/23\n",
      "10000/10000 [==============================] - 0s 43us/step - loss: 496.2315\n",
      "Epoch 4/23\n",
      "10000/10000 [==============================] - 0s 40us/step - loss: 457.4526\n",
      "Epoch 5/23\n",
      "10000/10000 [==============================] - 0s 34us/step - loss: 399.3790\n",
      "Epoch 6/23\n",
      "10000/10000 [==============================] - 0s 33us/step - loss: 368.7096\n",
      "Epoch 7/23\n",
      "10000/10000 [==============================] - 0s 37us/step - loss: 329.2112\n",
      "Epoch 8/23\n",
      "10000/10000 [==============================] - 0s 37us/step - loss: 297.2022\n",
      "Epoch 9/23\n",
      "10000/10000 [==============================] - 0s 39us/step - loss: 259.9157\n",
      "Epoch 10/23\n",
      "10000/10000 [==============================] - 0s 39us/step - loss: 248.4410\n",
      "Epoch 11/23\n",
      "10000/10000 [==============================] - 0s 37us/step - loss: 234.2801\n",
      "Epoch 12/23\n",
      "10000/10000 [==============================] - 1s 55us/step - loss: 226.1785\n",
      "Epoch 13/23\n",
      "10000/10000 [==============================] - 1s 56us/step - loss: 208.7052\n",
      "Epoch 14/23\n",
      "10000/10000 [==============================] - 0s 41us/step - loss: 192.8113\n",
      "Epoch 15/23\n",
      "10000/10000 [==============================] - 0s 43us/step - loss: 196.4613\n",
      "Epoch 16/23\n",
      "10000/10000 [==============================] - 0s 38us/step - loss: 201.6873\n",
      "Epoch 17/23\n",
      "10000/10000 [==============================] - 1s 51us/step - loss: 195.2929\n",
      "Epoch 18/23\n",
      "10000/10000 [==============================] - 0s 36us/step - loss: 187.8118\n",
      "Epoch 19/23\n",
      "10000/10000 [==============================] - 0s 41us/step - loss: 182.2486\n",
      "Epoch 20/23\n",
      "10000/10000 [==============================] - 0s 43us/step - loss: 193.4898\n",
      "Epoch 21/23\n",
      "10000/10000 [==============================] - 0s 38us/step - loss: 175.7855\n",
      "Epoch 22/23\n",
      "10000/10000 [==============================] - 0s 41us/step - loss: 180.9798\n",
      "Epoch 23/23\n",
      "10000/10000 [==============================] - 1s 54us/step - loss: 179.0795\n"
     ]
    },
    {
     "data": {
      "text/plain": [
       "<keras.callbacks.callbacks.History at 0x7f88fc0c6a50>"
      ]
     },
     "execution_count": 22,
     "metadata": {},
     "output_type": "execute_result"
    }
   ],
   "source": [
    "model.fit(X,y_true, epochs=40)"
   ]
  },
  {
   "cell_type": "code",
   "execution_count": 23,
   "metadata": {},
   "outputs": [],
   "source": [
    "y_pred=model.predict(X)"
   ]
  },
  {
   "cell_type": "code",
   "execution_count": 24,
   "metadata": {},
   "outputs": [
    {
     "data": {
      "text/plain": [
       "[<matplotlib.lines.Line2D at 0x7f88f416cd10>]"
      ]
     },
     "execution_count": 24,
     "metadata": {},
     "output_type": "execute_result"
    },
    {
     "data": {
      "image/png": "[encoded data removed]",
      "text/plain": [
       "<Figure size 432x288 with 1 Axes>"
      ]
     },
     "metadata": {
      "needs_background": "light"
     },
     "output_type": "display_data"
    }
   ],
   "source": [
    "df.plot(kind='scatter',\n",
    "       x='Height',\n",
    "       y='Weight', title='Weight and Height in adults')\n",
    "plt.plot(X, y_pred, color='red', linewidth=3)"
   ]
  },
  {
   "cell_type": "code",
   "execution_count": 25,
   "metadata": {},
   "outputs": [],
   "source": [
    "w,b=model.get_weights()"
   ]
  },
  {
   "cell_type": "code",
   "execution_count": 26,
   "metadata": {},
   "outputs": [
    {
     "data": {
      "text/plain": [
       "array([[7.412721]], dtype=float32)"
      ]
     },
     "execution_count": 26,
     "metadata": {},
     "output_type": "execute_result"
    }
   ],
   "source": [
    "w"
   ]
  },
  {
   "cell_type": "code",
   "execution_count": 27,
   "metadata": {},
   "outputs": [
    {
     "data": {
      "text/plain": [
       "array([-327.52557], dtype=float32)"
      ]
     },
     "execution_count": 27,
     "metadata": {},
     "output_type": "execute_result"
    }
   ],
   "source": [
    "b"
   ]
  },
  {
   "cell_type": "code",
   "execution_count": null,
   "metadata": {
    "collapsed": true
   },
   "outputs": [],
   "source": []
  }
 ],
 "metadata": {
  "kernelspec": {
   "display_name": "Python 3",
   "language": "python",
   "name": "python3"
  },
  "language_info": {
   "codemirror_mode": {
    "name": "ipython",
    "version": 3
   },
   "file_extension": ".py",
   "mimetype": "text/x-python",
   "name": "python",
   "nbconvert_exporter": "python",
   "pygments_lexer": "ipython3",
   "version": "3.7.5"
  }
 },
 "nbformat": 4,
 "nbformat_minor": 2
}
